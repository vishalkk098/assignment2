{
 "cells": [
  {
   "cell_type": "code",
   "execution_count": 97,
   "id": "f1720b79-4717-4f36-bea0-d9290aa42b82",
   "metadata": {},
   "outputs": [],
   "source": [
    "#Q1. Which keyword is used to create a function? Create a function to return a list of odd numbers in the\n",
    "#range of 1 to 25.\n",
    "\n",
    "\n",
    "# def keyword is used to create a function.\n",
    "\n",
    "def lists(l):\n",
    "    l=[]\n",
    "    for i in range(1,26):\n",
    "        if i%2!=0:\n",
    "            l.append(i)\n",
    "    return l "
   ]
  },
  {
   "cell_type": "code",
   "execution_count": 98,
   "id": "232c2fd7-a1fa-4e71-a972-f94faaf4cb18",
   "metadata": {},
   "outputs": [
    {
     "data": {
      "text/plain": [
       "[1, 3, 5, 7, 9, 11, 13, 15, 17, 19, 21, 23, 25]"
      ]
     },
     "execution_count": 98,
     "metadata": {},
     "output_type": "execute_result"
    }
   ],
   "source": [
    "lists(l)"
   ]
  },
  {
   "cell_type": "code",
   "execution_count": 99,
   "id": "e5fe12cd-bda7-458c-9923-38de718932ed",
   "metadata": {},
   "outputs": [],
   "source": [
    "#Q2. Why *args and **kwargs is used in some functions? Create a function each for *args and **kwargs\n",
    "#to demonstrate their use.\n",
    "\n",
    "\n",
    "#*args and *kwargs are use for passing 'n'number of varible inside the function.and *kwargs are give the dictionary as a ouput result.\n",
    "def test(*args):\n",
    "    return args"
   ]
  },
  {
   "cell_type": "code",
   "execution_count": 100,
   "id": "a2f124b0-137f-42c0-87e6-8763838360d1",
   "metadata": {},
   "outputs": [
    {
     "data": {
      "text/plain": [
       "(1, 2, 3, 5, 6)"
      ]
     },
     "execution_count": 100,
     "metadata": {},
     "output_type": "execute_result"
    }
   ],
   "source": [
    "test(1,2,3,5,6)"
   ]
  },
  {
   "cell_type": "code",
   "execution_count": 101,
   "id": "e011097c-21c5-4c4a-96ce-4b0b36e266bc",
   "metadata": {},
   "outputs": [],
   "source": [
    "def test2(**kwags):\n",
    "    return kwags"
   ]
  },
  {
   "cell_type": "code",
   "execution_count": 102,
   "id": "f7d07192-2241-4122-8331-8f7d1b4c2144",
   "metadata": {},
   "outputs": [
    {
     "data": {
      "text/plain": [
       "{'a': 1, 'b': 8, 'c': 2}"
      ]
     },
     "execution_count": 102,
     "metadata": {},
     "output_type": "execute_result"
    }
   ],
   "source": [
    "test2(a=1,b=8,c=2)"
   ]
  },
  {
   "cell_type": "code",
   "execution_count": 103,
   "id": "be7fa796-e6bf-41bc-ba72-ccd0f9eb1f99",
   "metadata": {},
   "outputs": [
    {
     "data": {
      "text/plain": [
       "2"
      ]
     },
     "execution_count": 103,
     "metadata": {},
     "output_type": "execute_result"
    }
   ],
   "source": [
    "#Q3. What is an iterator in python? Name the method used to initialise the iterator object and the method\n",
    "#used for iteration. Use these methods to print the first five elements of the given list [2, 4, 6, 8, 10, 12, 14,\n",
    "#16, 18, 20].  \n",
    "\n",
    "\n",
    "#python itertors are an objects that can traverse iterable.we can create itertors using the iter() method.\n",
    "\n",
    "l=[2,4,6,8,10,12,14,16,18,20]\n",
    "v=iter(l)\n",
    "next(v)\n"
   ]
  },
  {
   "cell_type": "code",
   "execution_count": 104,
   "id": "62664f94-2e96-4447-827d-bc6c4cfdd34e",
   "metadata": {},
   "outputs": [
    {
     "data": {
      "text/plain": [
       "4"
      ]
     },
     "execution_count": 104,
     "metadata": {},
     "output_type": "execute_result"
    }
   ],
   "source": [
    "next(v)"
   ]
  },
  {
   "cell_type": "code",
   "execution_count": 105,
   "id": "f6093216-4bfc-497f-99ac-58c327d98dd6",
   "metadata": {},
   "outputs": [
    {
     "data": {
      "text/plain": [
       "6"
      ]
     },
     "execution_count": 105,
     "metadata": {},
     "output_type": "execute_result"
    }
   ],
   "source": [
    "next(v)"
   ]
  },
  {
   "cell_type": "code",
   "execution_count": 106,
   "id": "bccd86e0-70e6-4967-b35b-f6783017cff9",
   "metadata": {},
   "outputs": [
    {
     "data": {
      "text/plain": [
       "8"
      ]
     },
     "execution_count": 106,
     "metadata": {},
     "output_type": "execute_result"
    }
   ],
   "source": [
    "next(v)"
   ]
  },
  {
   "cell_type": "code",
   "execution_count": 107,
   "id": "b7df6f7c-7a05-432d-be8d-c80533c4d7f9",
   "metadata": {},
   "outputs": [
    {
     "data": {
      "text/plain": [
       "10"
      ]
     },
     "execution_count": 107,
     "metadata": {},
     "output_type": "execute_result"
    }
   ],
   "source": [
    "next(v)"
   ]
  },
  {
   "cell_type": "code",
   "execution_count": 108,
   "id": "17e9fede-060e-424a-b996-57db0fa1ef7a",
   "metadata": {},
   "outputs": [
    {
     "data": {
      "text/plain": [
       "12"
      ]
     },
     "execution_count": 108,
     "metadata": {},
     "output_type": "execute_result"
    }
   ],
   "source": [
    "next(v)"
   ]
  },
  {
   "cell_type": "code",
   "execution_count": 109,
   "id": "6f3c124f-0c71-4667-b150-aadadcc0755e",
   "metadata": {},
   "outputs": [],
   "source": [
    "#Q4. What is a generator function in python? Why yield keyword is used? Give an example of a generator\n",
    "#function. \n",
    "\n",
    "\n",
    "\n",
    " #a generator is a function that returns an iterator that produces a sequence of values when iterated over.\n",
    "\n",
    "#Generators are useful when we want to produce a large sequence of values, but we don't want to store all of them in memory at once.\n",
    "# yield keyword use for creating generator funtion .without storing all sequence of value in memory,give the value one at a time.\n",
    "\n",
    "def squ(n):\n",
    "    for i in range(n):\n",
    "        yield i**2"
   ]
  },
  {
   "cell_type": "code",
   "execution_count": 110,
   "id": "d28260a1-8ce9-49d2-b4fc-18780bf6338a",
   "metadata": {},
   "outputs": [
    {
     "name": "stdout",
     "output_type": "stream",
     "text": [
      "0\n",
      "1\n",
      "4\n",
      "9\n"
     ]
    }
   ],
   "source": [
    "for i in squ(4):\n",
    "    print(i)"
   ]
  },
  {
   "cell_type": "code",
   "execution_count": 111,
   "id": "907a4b98-da13-461e-b5c9-64f035e63905",
   "metadata": {},
   "outputs": [],
   "source": [
    "#Q5. Create a generator function for prime numbers less than 1000. Use the next() method to print the\n",
    "#first 20 prime numbers.\n",
    "def prime_num(n):\n",
    "    \n",
    "    for i in range(1,1001): \n",
    "        \n",
    "        count=0\n",
    "        for j in range(1,i+1):\n",
    "            if(i%j==0):\n",
    "                count=count+1\n",
    "        if (count==2):\n",
    "            \n",
    "            yield i\n",
    "            \n",
    "        \n",
    "\n",
    "\n",
    "        \n",
    "         \n",
    "        \n",
    "    \n",
    "\n",
    "\n"
   ]
  },
  {
   "cell_type": "code",
   "execution_count": 112,
   "id": "3f3d9416-ad83-42ae-b5bb-5cf132d019e7",
   "metadata": {},
   "outputs": [
    {
     "name": "stdout",
     "output_type": "stream",
     "text": [
      "2  3  5  7  11  13  17  19  23  29  31  37  41  43  47  53  59  61  67  71  73  79  83  89  97  101  103  107  109  113  127  131  137  139  149  151  157  163  167  173  179  181  191  193  197  199  211  223  227  229  233  239  241  251  257  263  269  271  277  281  283  293  307  311  313  317  331  337  347  349  353  359  367  373  379  383  389  397  401  409  419  421  431  433  439  443  449  457  461  463  467  479  487  491  499  503  509  521  523  541  547  557  563  569  571  577  587  593  599  601  607  613  617  619  631  641  643  647  653  659  661  673  677  683  691  701  709  719  727  733  739  743  751  757  761  769  773  787  797  809  811  821  823  827  829  839  853  857  859  863  877  881  883  887  907  911  919  929  937  941  947  953  967  971  977  983  991  997  "
     ]
    }
   ],
   "source": [
    "\n",
    "    for i in prime_num(20):\n",
    "        \n",
    "        print(i,end='  ')\n",
    "\n",
    "\n",
    "    \n",
    "    "
   ]
  },
  {
   "cell_type": "code",
   "execution_count": 113,
   "id": "c1106c58-fa81-49b1-b84c-76dcf5173152",
   "metadata": {},
   "outputs": [],
   "source": [
    "#Q6. Write a python program to print the first 10 Fibonacci numbers using a while loop.\n",
    "\n",
    "\n",
    "def fibo(n):\n",
    "    a,b=0,1\n",
    "    while True:\n",
    "        yield a\n",
    "        a,b=b,a+b\n",
    "        "
   ]
  },
  {
   "cell_type": "code",
   "execution_count": 145,
   "id": "242cd44e-0641-4067-8cfa-9d283338cfbd",
   "metadata": {},
   "outputs": [],
   "source": [
    "fib=fibo(10)"
   ]
  },
  {
   "cell_type": "code",
   "execution_count": 146,
   "id": "789976ff-6f8b-4297-b673-3d418156644a",
   "metadata": {},
   "outputs": [
    {
     "name": "stdout",
     "output_type": "stream",
     "text": [
      "0\n",
      "1\n",
      "1\n",
      "2\n",
      "3\n",
      "5\n",
      "8\n",
      "13\n",
      "21\n",
      "34\n"
     ]
    }
   ],
   "source": [
    "for i in range(10):\n",
    "    print(next(fib))"
   ]
  },
  {
   "cell_type": "code",
   "execution_count": null,
   "id": "a990b04a-bf13-4646-99cd-699b6d898de2",
   "metadata": {},
   "outputs": [],
   "source": [
    "#Q7. Write a List Comprehension to iterate through the given string: ‘pwskills’.\n",
    "#Expected output: ['p', 'w', 's', 'k', 'i', 'l', 'l', 's']\n",
    "\n",
    "\n",
    "v='pwskills'\n",
    "s=iter(v)\n",
    "print(list(s))"
   ]
  },
  {
   "cell_type": "code",
   "execution_count": 115,
   "id": "ca5a7304-635a-40e0-b2fe-6320dfe2c7b0",
   "metadata": {},
   "outputs": [
    {
     "name": "stdin",
     "output_type": "stream",
     "text": [
      "Enter a number:  121\n"
     ]
    },
    {
     "name": "stdout",
     "output_type": "stream",
     "text": [
      "121 is a palindrome.\n"
     ]
    }
   ],
   "source": [
    "#Q8. Write a python program to check whether a given number is Palindrome or not using a while loop.\n",
    "\n",
    "def is_palindrome(number):\n",
    "    original_number = number\n",
    "    reversed_number = 0\n",
    "\n",
    "    while number > 0:\n",
    "        digit = number % 10\n",
    "        reversed_number = reversed_number * 10 + digit\n",
    "        number //= 10\n",
    "\n",
    "    return original_number == reversed_number\n",
    "\n",
    "# Test the function\n",
    "test_number = int(input(\"Enter a number: \"))\n",
    "if is_palindrome(test_number):\n",
    "    print(f\"{test_number} is a palindrome.\")\n",
    "else:\n",
    "    print(f\"{test_number} is not a palindrome.\")\n",
    "    "
   ]
  },
  {
   "cell_type": "code",
   "execution_count": 116,
   "id": "c45cdbf8-087d-430c-b522-7233c5d89d7e",
   "metadata": {},
   "outputs": [],
   "source": [
    "#Write a code to print odd numbers from 1 to 100 using list comprehension.\n",
    "#Note: Use a list comprehension to create a list from 1 to 100 and use another List comprehension to filter\n",
    "#out odd number\n",
    "    \n",
    "\n"
   ]
  },
  {
   "cell_type": "code",
   "execution_count": 129,
   "id": "ee64c720-00fe-41fb-ba64-28dfd1ac884b",
   "metadata": {},
   "outputs": [],
   "source": [
    "lst=[n for n in range(1,101) if n%2!=0 ]"
   ]
  },
  {
   "cell_type": "code",
   "execution_count": 131,
   "id": "36d063e2-8f16-4853-bc7f-156e25efda35",
   "metadata": {},
   "outputs": [
    {
     "name": "stdout",
     "output_type": "stream",
     "text": [
      "[1, 3, 5, 7, 9, 11, 13, 15, 17, 19, 21, 23, 25, 27, 29, 31, 33, 35, 37, 39, 41, 43, 45, 47, 49, 51, 53, 55, 57, 59, 61, 63, 65, 67, 69, 71, 73, 75, 77, 79, 81, 83, 85, 87, 89, 91, 93, 95, 97, 99]\n"
     ]
    }
   ],
   "source": [
    "print(lst)"
   ]
  },
  {
   "cell_type": "code",
   "execution_count": null,
   "id": "f0fe92da-c808-4221-92f6-d02be6355755",
   "metadata": {},
   "outputs": [],
   "source": []
  }
 ],
 "metadata": {
  "kernelspec": {
   "display_name": "Python 3 (ipykernel)",
   "language": "python",
   "name": "python3"
  },
  "language_info": {
   "codemirror_mode": {
    "name": "ipython",
    "version": 3
   },
   "file_extension": ".py",
   "mimetype": "text/x-python",
   "name": "python",
   "nbconvert_exporter": "python",
   "pygments_lexer": "ipython3",
   "version": "3.10.8"
  }
 },
 "nbformat": 4,
 "nbformat_minor": 5
}
